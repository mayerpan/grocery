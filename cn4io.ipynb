{
 "cells": [
  {
   "cell_type": "code",
   "execution_count": 18,
   "metadata": {},
   "outputs": [],
   "source": [
    "# python3\n",
    "# this script is about to read and write ionmix cn4 file type\n",
    "# one can combine other eos data library like badger to run in FLASH\n",
    "# based on flash center's opacplot\n",
    "\n",
    "import numpy as np\n",
    "import re\n",
    "from io import StringIO\n",
    "import matplotlib.pyplot as plt\n"
   ]
  },
  {
   "cell_type": "code",
   "execution_count": 19,
   "metadata": {},
   "outputs": [],
   "source": [
    "f = open('al-imx-003.cn4','r')\n",
    "global nt,nd,ng #numder of temperatures densities and energy groups\n",
    "tempnums = 21\n",
    "dennums = 25\n",
    "atom = 73 #atomic number and fraction\n",
    "frac = 1.0\n",
    "\n",
    "#first several lines\n",
    "nt = int(f.read(10))\n",
    "nd = int(f.read(10))\n",
    "\n",
    "for i in range(3):\n",
    "    f.readline()\n",
    "\n",
    "ng = 6\n",
    "f.readline()\n",
    "#get the strings and convert into numbers\n",
    "txt = re.sub(r'\\s','',f.read())\n",
    "\n",
    "\n"
   ]
  },
  {
   "cell_type": "code",
   "execution_count": 20,
   "metadata": {},
   "outputs": [],
   "source": [
    "data = StringIO(txt)\n",
    "\n",
    "#read the string by the moving of the pointer\n",
    "def read_block(f,n):\n",
    "    arr = np.zeros(n)\n",
    "    for i in range(n):\n",
    "        arr[i] = float(f.read(12))\n",
    "    return arr\n",
    "\n",
    "temps = read_block(data,nt)\n",
    "dens = read_block(data,nd)\n",
    "zbar = read_block(data,nd*nt).reshape(nd,nt)\n",
    "dzdt = read_block(data,nd*nt).reshape(nd,nt)\n",
    "pion = read_block(data,nd*nt).reshape(nd,nt)\n",
    "pele = read_block(data,nd*nt).reshape(nd,nt)\n",
    "dpidt = read_block(data,nd*nt).reshape(nd,nt)\n",
    "dpedt = read_block(data,nd*nt).reshape(nd,nt)\n",
    "eion = read_block(data,nd*nt).reshape(nd,nt)\n",
    "eele = read_block(data,nd*nt).reshape(nd,nt)\n",
    "deidt = read_block(data,nd*nt).reshape(nd,nt)\n",
    "deedt = read_block(data,nd*nt).reshape(nd,nt)\n",
    "deidn = read_block(data,nd*nt).reshape(nd,nt)\n",
    "deedn = read_block(data,nd*nt).reshape(nd,nt)\n"
   ]
  },
  {
   "cell_type": "code",
   "execution_count": 21,
   "metadata": {},
   "outputs": [],
   "source": [
    "opac_bounds = read_block(data,7)\n",
    "arr_ro = read_block(data,nd*nt*ng)\n",
    "arr_pa = read_block(data,nd*nt*ng)\n",
    "arr_pe = read_block(data,ng*nd*nt)\n",
    "rosseland = np.zeros((nd,nt,ng))\n",
    "planck_absorb = np.zeros((nd,nt,ng))\n",
    "planck_emiss = np.zeros((nd,nt,ng))\n",
    "\n",
    "#be careful of the shape of the data\n",
    "i = 0\n",
    "for g in range(ng):\n",
    "    for d in range(nd):\n",
    "        for t in range(nt):\n",
    "            rosseland[d,t,g] = arr_ro[i]\n",
    "            planck_absorb[d,t,g] = arr_pa[i]\n",
    "            planck_emiss[d,t,g] = arr_pe[i]\n",
    "            i += 1\n"
   ]
  },
  {
   "cell_type": "code",
   "execution_count": 22,
   "metadata": {},
   "outputs": [],
   "source": [
    "zbar_new = np.loadtxt('zbar.txt').reshape(nt,nd)\n",
    "pion_new = np.loadtxt('i_pressure.txt').reshape(nt,nd)\n",
    "pele_new = np.loadtxt('e_pressure.txt').reshape(nt,nd)\n",
    "eion_new = np.loadtxt('i_energy.txt').reshape(nt,nd)\n",
    "eele_new = np.loadtxt('e_energy.txt').reshape(nt,nd)"
   ]
  },
  {
   "cell_type": "code",
   "execution_count": 23,
   "metadata": {},
   "outputs": [],
   "source": [
    "#fig,axes = plt.subplots(2,1)\n",
    "#axes[0].imshow(zbar)\n",
    "#axes[1].imshow(zbar_new.T)\n",
    "#cbar = plt.colorbar()"
   ]
  },
  {
   "cell_type": "code",
   "execution_count": 24,
   "metadata": {},
   "outputs": [
    {
     "data": {
      "text/plain": [
       "False"
      ]
     },
     "execution_count": 24,
     "metadata": {},
     "output_type": "execute_result"
    }
   ],
   "source": [
    "np.shape(zbar) == np.shape(zbar_new)"
   ]
  },
  {
   "cell_type": "code",
   "execution_count": 25,
   "metadata": {},
   "outputs": [],
   "source": [
    "#write ionmix format\n",
    "fw = open('output.cn4','w')\n",
    "fw.write('%10i%10i\\n' % (nt,nd))\n",
    "fw.write(\" atomic #s of gases: \")\n",
    "fw.write(\"%10i\" % atom)\n",
    "fw.write(\"\\nrelative fractions: \")\n",
    "fw.write(\"%10.2E\" % frac)\n",
    "fw.write('\\n')\n",
    "fw.write(\"%12i\\n\" % ng)\n",
    "\n",
    "#convert the numbers back into string \n",
    "def convert(num):\n",
    "    string_org = \"%12.5E\" % (num)\n",
    "    negative = (string_org[0] == \"-\")\n",
    "    lead = \"-.\" if negative else \"0.\"\n",
    "    string = lead + string_org[1] + string_org[3:8] + \"E\"\n",
    "\n",
    "    # Deal with the exponent:\n",
    "\n",
    "    # Check for zero:\n",
    "    if int(string_org[1] + string_org[3:8]) == 0:\n",
    "        return string + \"+00\"\n",
    "\n",
    "    # Not zero:\n",
    "    expo = int(string_org[9:]) + 1\n",
    "    if expo < 0:\n",
    "        string += \"-\"\n",
    "    else:\n",
    "        string += \"+\"\n",
    "    string += \"%02d\" % abs(expo)\n",
    "    return string\n",
    "\n",
    "def write_block(var):\n",
    "    count = 0\n",
    "    for n in range(len(var)):\n",
    "        count += 1\n",
    "\n",
    "        fw.write(\"%s\" % convert(var[n]))\n",
    "\n",
    "        if count == 4:\n",
    "            count = 0\n",
    "            fw.write(\"\\n\")\n",
    "\n",
    "    if count != 0: fw.write(\"\\n\")\n",
    "\n",
    "def write_opac_block(var):\n",
    "    count = 0\n",
    "    for g in range(ng):\n",
    "        for jd in range(nd):\n",
    "            for jt in range(nt):\n",
    "                count += 1\n",
    "\n",
    "                fw.write(\"%s\" % convert(var[jd,jt,g]))\n",
    "\n",
    "                if count == 4:\n",
    "                    count = 0\n",
    "                    fw.write(\"\\n\")\n",
    "\n",
    "    if count != 0: fw.write(\"\\n\")\n",
    "write_block(temps)\n",
    "write_block(dens)\n",
    "write_block(zbar_new.T.flatten()) #here the transpose to get the right position of the data\n",
    "write_block(dzdt.flatten())\n",
    "write_block(pion_new.T.flatten())\n",
    "write_block(pele_new.T.flatten())\n",
    "write_block(dpidt.flatten())\n",
    "write_block(dpedt.flatten())\n",
    "write_block(eion_new.T.flatten())\n",
    "write_block(eele_new.T.flatten())\n",
    "write_block(dpidt.flatten())\n",
    "write_block(dpedt.flatten())\n",
    "write_block(deidn.flatten())\n",
    "write_block(deedn.flatten())\n",
    "write_block(opac_bounds)\n",
    "write_opac_block(rosseland)\n",
    "write_opac_block(planck_absorb)\n",
    "write_opac_block(planck_emiss)\n",
    "\n",
    "\n"
   ]
  }
 ],
 "metadata": {
  "interpreter": {
   "hash": "e7370f93d1d0cde622a1f8e1c04877d8463912d04d973331ad4851f04de6915a"
  },
  "kernelspec": {
   "display_name": "Python 3.8.10 64-bit",
   "language": "python",
   "name": "python3"
  },
  "language_info": {
   "codemirror_mode": {
    "name": "ipython",
    "version": 3
   },
   "file_extension": ".py",
   "mimetype": "text/x-python",
   "name": "python",
   "nbconvert_exporter": "python",
   "pygments_lexer": "ipython3",
   "version": "3.8.10"
  },
  "orig_nbformat": 4
 },
 "nbformat": 4,
 "nbformat_minor": 2
}
